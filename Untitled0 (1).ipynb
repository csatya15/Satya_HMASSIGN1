{
  "nbformat": 4,
  "nbformat_minor": 0,
  "metadata": {
    "colab": {
      "provenance": []
    },
    "kernelspec": {
      "name": "python3",
      "display_name": "Python 3"
    },
    "language_info": {
      "name": "python"
    }
  },
  "cells": [
    {
      "cell_type": "code",
      "execution_count": null,
      "metadata": {
        "colab": {
          "base_uri": "https://localhost:8080/"
        },
        "id": "H1zIXtNlcCfi",
        "outputId": "19c37bcc-9b84-4b7b-84bc-5f956d248f61"
      },
      "outputs": [
        {
          "output_type": "stream",
          "name": "stdout",
          "text": [
            "Original Tensor:\n",
            " tf.Tensor(\n",
            "[[0.9433774  0.76794434 0.8271451  0.24125671 0.46283615 0.94365597]\n",
            " [0.8631023  0.6523068  0.9845909  0.77697384 0.9316534  0.63965356]\n",
            " [0.9816476  0.17915237 0.78450906 0.9824176  0.1004523  0.6985756 ]\n",
            " [0.16861403 0.715837   0.0618341  0.34939015 0.65993226 0.86496186]], shape=(4, 6), dtype=float32)\n",
            "\n",
            "Rank of tensor: 2\n",
            "Shape of tensor: [4 6]\n",
            "\n",
            "Reshaped Tensor (2, 3, 4):\n",
            " tf.Tensor(\n",
            "[[[0.9433774  0.76794434 0.8271451  0.24125671]\n",
            "  [0.46283615 0.94365597 0.8631023  0.6523068 ]\n",
            "  [0.9845909  0.77697384 0.9316534  0.63965356]]\n",
            "\n",
            " [[0.9816476  0.17915237 0.78450906 0.9824176 ]\n",
            "  [0.1004523  0.6985756  0.16861403 0.715837  ]\n",
            "  [0.0618341  0.34939015 0.65993226 0.86496186]]], shape=(2, 3, 4), dtype=float32)\n",
            "\n",
            "Transposed Tensor (3, 2, 4):\n",
            " tf.Tensor(\n",
            "[[[0.9433774  0.76794434 0.8271451  0.24125671]\n",
            "  [0.9816476  0.17915237 0.78450906 0.9824176 ]]\n",
            "\n",
            " [[0.46283615 0.94365597 0.8631023  0.6523068 ]\n",
            "  [0.1004523  0.6985756  0.16861403 0.715837  ]]\n",
            "\n",
            " [[0.9845909  0.77697384 0.9316534  0.63965356]\n",
            "  [0.0618341  0.34939015 0.65993226 0.86496186]]], shape=(3, 2, 4), dtype=float32)\n",
            "\n",
            "Result after broadcasting and addition:\n",
            " tf.Tensor(\n",
            "[[[1.9433774 2.7679443 3.827145  4.2412567]\n",
            "  [1.9816476 2.1791525 3.7845092 4.9824176]]\n",
            "\n",
            " [[1.4628361 2.943656  3.8631024 4.6523066]\n",
            "  [1.1004523 2.6985755 3.168614  4.715837 ]]\n",
            "\n",
            " [[1.9845909 2.7769737 3.9316535 4.6396537]\n",
            "  [1.0618341 2.34939   3.6599321 4.8649616]]], shape=(3, 2, 4), dtype=float32)\n"
          ]
        }
      ],
      "source": [
        "import tensorflow as tf\n",
        "\n",
        "# 1. Create a random tensor of shape (4, 6)\n",
        "tensor = tf.random.uniform(shape=(4, 6))\n",
        "print(\"Original Tensor:\\n\", tensor)\n",
        "\n",
        "# 2. Find its rank and shape using TensorFlow functions\n",
        "rank = tf.rank(tensor)\n",
        "shape = tf.shape(tensor)\n",
        "print(\"\\nRank of tensor:\", rank.numpy())\n",
        "print(\"Shape of tensor:\", shape.numpy())\n",
        "\n",
        "# 3. Reshape it into (2, 3, 4)\n",
        "reshaped_tensor = tf.reshape(tensor, (2, 3, 4))\n",
        "print(\"\\nReshaped Tensor (2, 3, 4):\\n\", reshaped_tensor)\n",
        "\n",
        "# Transpose to (3, 2, 4)\n",
        "transposed_tensor = tf.transpose(reshaped_tensor, perm=[1, 0, 2])\n",
        "print(\"\\nTransposed Tensor (3, 2, 4):\\n\", transposed_tensor)\n",
        "\n",
        "# 4. Broadcast a smaller tensor (1, 4) to match the larger tensor and add them\n",
        "small_tensor = tf.constant([[1.0, 2.0, 3.0, 4.0]])  # shape (1, 4)\n",
        "# Let's broadcast it to the last dimension of the transposed_tensor (3, 2, 4)\n",
        "broadcasted_result = transposed_tensor + small_tensor  # shape aligns to (..., 4)\n",
        "print(\"\\nResult after broadcasting and addition:\\n\", broadcasted_result)\n"
      ]
    },
    {
      "cell_type": "code",
      "source": [
        "import tensorflow as tf\n",
        "import numpy as np\n",
        "import matplotlib.pyplot as plt\n",
        "\n",
        "# 1. Define true values and model predictions\n",
        "y_true = tf.constant([[0, 0, 1]], dtype=tf.float32)  # one-hot encoded for class 2\n",
        "y_pred_1 = tf.constant([[0.1, 0.1, 0.8]], dtype=tf.float32)  # good prediction\n",
        "y_pred_2 = tf.constant([[0.3, 0.4, 0.3]], dtype=tf.float32)  # less confident prediction\n",
        "\n",
        "# 2. Compute MSE and CCE for both predictions\n",
        "mse = tf.keras.losses.MeanSquaredError()\n",
        "cce = tf.keras.losses.CategoricalCrossentropy()\n",
        "\n",
        "mse_loss_1 = mse(y_true, y_pred_1).numpy()\n",
        "cce_loss_1 = cce(y_true, y_pred_1).numpy()\n",
        "mse_loss_2 = mse(y_true, y_pred_2).numpy()\n",
        "cce_loss_2 = cce(y_true, y_pred_2).numpy()\n",
        "\n",
        "# 3. Print loss values\n",
        "print(f\"Prediction 1 - MSE: {mse_loss_1:.4f}, CCE: {cce_loss_1:.4f}\")\n",
        "print(f\"Prediction 2 - MSE: {mse_loss_2:.4f}, CCE: {cce_loss_2:.4f}\")\n",
        "\n",
        "# 4. Plot bar chart comparing the losses\n",
        "labels = ['Prediction 1', 'Prediction 2']\n",
        "mse_values = [mse_loss_1, mse_loss_2]\n",
        "cce_values = [cce_loss_1, cce_loss_2]\n",
        "\n",
        "x = np.arange(len(labels))\n",
        "width = 0.35\n",
        "\n",
        "plt.figure(figsize=(8, 5))\n",
        "plt.bar(x - width/2, mse_values, width, label='MSE', color='skyblue')\n",
        "plt.bar(x + width/2, cce_values, width, label='CCE', color='salmon')\n",
        "plt.ylabel('Loss Value')\n",
        "plt.title('Comparison of MSE and CCE Losses')\n",
        "plt.xticks(x, labels)\n",
        "plt.legend()\n",
        "plt.grid(True, axis='y', linestyle='--', alpha=0.7)\n",
        "plt.tight_layout()\n",
        "plt.show()\n"
      ],
      "metadata": {
        "colab": {
          "base_uri": "https://localhost:8080/",
          "height": 542
        },
        "id": "cJ7ghxeCcdBw",
        "outputId": "fbb90ca6-4d5c-401e-ef70-20b7949928c7"
      },
      "execution_count": null,
      "outputs": [
        {
          "output_type": "stream",
          "name": "stdout",
          "text": [
            "Prediction 1 - MSE: 0.0200, CCE: 0.2231\n",
            "Prediction 2 - MSE: 0.2467, CCE: 1.2040\n"
          ]
        },
        {
          "output_type": "display_data",
          "data": {
            "text/plain": [
              "<Figure size 800x500 with 1 Axes>"
            ],
            "image/png": "[encoded data removed]"
          },
          "metadata": {}
        }
      ]
    },
    {
      "cell_type": "code",
      "source": [
        "import torch\n",
        "import torch.nn as nn\n",
        "import torch.nn.functional as F\n",
        "import torchvision\n",
        "import torchvision.transforms as transforms\n",
        "from torch.utils.tensorboard import SummaryWriter\n",
        "from torch.utils.data import DataLoader\n",
        "import datetime\n",
        "\n",
        "# 1. Load the MNIST dataset and preprocess it\n",
        "transform = transforms.Compose([transforms.ToTensor()])\n",
        "train_dataset = torchvision.datasets.MNIST(root='./data', train=True, transform=transform, download=True)\n",
        "test_dataset = torchvision.datasets.MNIST(root='./data', train=False, transform=transform, download=True)\n",
        "\n",
        "train_loader = DataLoader(dataset=train_dataset, batch_size=64, shuffle=True)\n",
        "test_loader = DataLoader(dataset=test_dataset, batch_size=1000, shuffle=False)\n",
        "\n",
        "# 2. Define a simple neural network\n",
        "class SimpleNN(nn.Module):\n",
        "    def __init__(self):\n",
        "        super(SimpleNN, self).__init__()\n",
        "        self.fc1 = nn.Linear(28 * 28, 128)\n",
        "        self.dropout = nn.Dropout(0.2)\n",
        "        self.fc2 = nn.Linear(128, 10)\n",
        "\n",
        "    def forward(self, x):\n",
        "        x = x.view(-1, 28*28)\n",
        "        x = F.relu(self.fc1(x))\n",
        "        x = self.dropout(x)\n",
        "        return self.fc2(x)\n",
        "\n",
        "model = SimpleNN()\n",
        "criterion = nn.CrossEntropyLoss()\n",
        "optimizer = torch.optim.Adam(model.parameters(), lr=0.001)\n",
        "\n",
        "# 3. Enable TensorBoard logging\n",
        "log_dir = \"runs/mnist_\" + datetime.datetime.now().strftime(\"%Y%m%d-%H%M%S\")\n",
        "writer = SummaryWriter(log_dir=log_dir)\n",
        "\n",
        "# 4. Training loop with validation logging\n",
        "for epoch in range(5):\n",
        "    model.train()\n",
        "    train_loss = 0\n",
        "    correct = 0\n",
        "    total = 0\n",
        "    for images, labels in train_loader:\n",
        "        outputs = model(images)\n",
        "        loss = criterion(outputs, labels)\n",
        "\n",
        "        optimizer.zero_grad()\n",
        "        loss.backward()\n",
        "        optimizer.step()\n",
        "\n",
        "        train_loss += loss.item()\n",
        "        _, predicted = torch.max(outputs.data, 1)\n",
        "        total += labels.size(0)\n",
        "        correct += (predicted == labels).sum().item()\n",
        "\n",
        "    train_accuracy = correct / total\n",
        "    avg_train_loss = train_loss / len(train_loader)\n",
        "\n",
        "    # Validation\n",
        "    model.eval()\n",
        "    val_loss = 0\n",
        "    val_correct = 0\n",
        "    val_total = 0\n",
        "    with torch.no_grad():\n",
        "        for images, labels in test_loader:\n",
        "            outputs = model(images)\n",
        "            loss = criterion(outputs, labels)\n",
        "            val_loss += loss.item()\n",
        "            _, predicted = torch.max(outputs.data, 1)\n",
        "            val_total += labels.size(0)\n",
        "            val_correct += (predicted == labels).sum().item()\n",
        "\n",
        "    val_accuracy = val_correct / val_total\n",
        "    avg_val_loss = val_loss / len(test_loader)\n",
        "\n",
        "    # Log to TensorBoard\n",
        "    writer.add_scalar(\"Loss/Train\", avg_train_loss, epoch)\n",
        "    writer.add_scalar(\"Loss/Validation\", avg_val_loss, epoch)\n",
        "    writer.add_scalar(\"Accuracy/Train\", train_accuracy, epoch)\n",
        "    writer.add_scalar(\"Accuracy/Validation\", val_accuracy, epoch)\n",
        "\n",
        "    print(f\"Epoch {epoch+1}: Train Acc={train_accuracy:.4f}, Val Acc={val_accuracy:.4f}\")\n",
        "\n",
        "writer.close()\n"
      ],
      "metadata": {
        "colab": {
          "base_uri": "https://localhost:8080/"
        },
        "id": "mMEZkieqvCTI",
        "outputId": "4ea0f809-adc8-4746-b747-c7c36609f94b"
      },
      "execution_count": 7,
      "outputs": [
        {
          "output_type": "stream",
          "name": "stdout",
          "text": [
            "Epoch 1: Train Acc=0.8982, Val Acc=0.9488\n",
            "Epoch 2: Train Acc=0.9479, Val Acc=0.9628\n",
            "Epoch 3: Train Acc=0.9623, Val Acc=0.9691\n",
            "Epoch 4: Train Acc=0.9688, Val Acc=0.9729\n",
            "Epoch 5: Train Acc=0.9731, Val Acc=0.9756\n"
          ]
        }
      ]
    }
  ]
}